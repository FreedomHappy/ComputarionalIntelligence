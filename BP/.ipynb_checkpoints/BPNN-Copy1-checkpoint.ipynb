{
 "cells": [
  {
   "cell_type": "code",
   "execution_count": 56,
   "metadata": {},
   "outputs": [
    {
     "name": "stdout",
     "output_type": "stream",
     "text": [
      "inputs shape:\n",
      " (4, 2)\n",
      "inputs:\n",
      " [[0. 0.]\n",
      " [0. 1.]\n",
      " [1. 0.]\n",
      " [1. 1.]]\n",
      "true_out shape:\n",
      " (4, 2)\n",
      "true_out:\n",
      " [[0. 0.]\n",
      " [0. 1.]\n",
      " [1. 0.]\n",
      " [1. 1.]]\n",
      "layer_1-weights\n",
      " [[-1.24557554 -1.20407324  1.8478455 ]\n",
      " [ 0.12636428  0.59709151  0.49097035]]\n",
      "layer_1-sum_weights\n",
      " [[0. 0. 0.]]\n",
      "layer_1-result\n",
      " [[0.5 0.5 0.5]]\n",
      "layer_2-weights\n",
      " [[ 0.26965794  2.24729182]\n",
      " [-1.83586586 -0.60550154]\n",
      " [ 0.60422566 -0.01448961]]\n",
      "layer_2-sum_weights\n",
      " [[-0.48099113  0.81365034]]\n",
      "layer_2-result\n",
      " [[0.38201811 0.69288682]]\n",
      "E_out:\n",
      " [[-0.09018694 -0.14744263]]\n",
      "weights_out*E_out [[-0.35566623  0.25484786 -0.05235688]]\n",
      "h1*(1-h1) [[0.25 0.25 0.25]]\n",
      "E_h1: [[-0.08891656  0.06371197 -0.01308922]]\n",
      "lr*np.multiply(output,E_out): [[-0.02254674 -0.03686066]\n",
      " [-0.02254674 -0.03686066]\n",
      " [-0.02254674 -0.03686066]]\n",
      "weights_out: [[ 0.24711121  2.21043116]\n",
      " [-1.8584126  -0.6423622 ]\n",
      " [ 0.58167893 -0.05135026]]\n",
      "weights1 [[-1.24557554 -1.20407324  1.8478455 ]\n",
      " [ 0.12636428  0.59709151  0.49097035]]\n"
     ]
    }
   ],
   "source": [
    "import numpy as np\n",
    "\n",
    "hidden_num=1;\n",
    "datatype=np.float32\n",
    "\n",
    "mm=0.3\n",
    "epoch_size=1\n",
    "epoch_num=100\n",
    "lr=0.5\n",
    "\n",
    "inputs=np.array([[0.0,0.0],[0.0,1.0],[1.0,0.0],[1.0,1.0]],dtype=datatype)\n",
    "true_out=np.array(([[0.0,0.0],[0.0,1.0],[1.0,0.0],[1.0,1.0]]))\n",
    "print('inputs shape:\\n',inputs.shape)\n",
    "print('inputs:\\n',inputs)\n",
    "print('true_out shape:\\n',true_out.shape)\n",
    "print('true_out:\\n',true_out)\n",
    "\n",
    "\n",
    "#定义隐藏层函数\n",
    "def hidden_layer(inputs,units,activ=None,train=0,wg=None,layer_order=None):\n",
    "    #判断输入是否为二维数组\n",
    "    #print(inputs.shape)\n",
    "    assert len(inputs.shape)==2\n",
    "    \n",
    "    #初始或赋值权重矩阵\n",
    "    if train==0:\n",
    "        weights=np.array(np.random.randn(inputs.shape[1],units))\n",
    "    else:\n",
    "        weights=wg\n",
    "    print('layer_%d-weights\\n'%(layer_order),weights)\n",
    "    \n",
    "    #加权求和\n",
    "    bias=np.zeros((inputs.shape[0],units))\n",
    "    sum_weights=np.matrix(inputs)*np.matrix(weights)+bias\n",
    "    print('layer_%d-sum_weights\\n'%(layer_order),sum_weights)\n",
    "    \n",
    "    #送入激活函数\n",
    "    if activ!=None: \n",
    "        result=activ(sum_weights)\n",
    "    else:\n",
    "        result=sum_weights\n",
    "    print('layer_%d-result\\n'%(layer_order),result)\n",
    "    \n",
    "    result=np.array(result)\n",
    "    return result,weights,bias\n",
    "\n",
    "#定义logist激活函数\n",
    "def logist(x):\n",
    "    y=1/(1+np.exp(-x))\n",
    "    return y\n",
    "\n",
    "\n",
    "h1,weights1,bias1=hidden_layer(np.array([inputs[0]]),3,logist,layer_order=1)\n",
    "output,weights_out,bias_out=hidden_layer(h1,2,logist,layer_order=2)\n",
    "\n",
    "#计算输出层误差\n",
    "E_out=output*(1-output)*(true_out[0]-output)\n",
    "print('E_out:\\n',E_out)\n",
    "\n",
    "#计算隐藏层误差\n",
    "E_h1=np.reshape(np.sum(weights_out*E_out,axis=1),(epoch_size,-1))\n",
    "print('weights_out*E_out',E_h1)\n",
    "print('h1*(1-h1)',h1*(1-h1))\n",
    "E_h1=h1*(1-h1)*E_h1\n",
    "print('E_h1:',E_h1)\n",
    "\n",
    "#调整输出层参数\n",
    "print('lr*np.multiply(output,E_out):',lr*np.multiply(h1.T,E_out))\n",
    "weights_out=weights_out+lr*np.multiply(h1.T,E_out)\n",
    "print('weights_out:',weights_out)\n",
    "bias_out=weights_out+lr*E_out\n",
    "\n",
    "#调整隐藏层参数\n",
    "weights1=weights1+lr*np.multiply(np.array([inputs[0]]).T,E_h1)\n",
    "print('weights1',weights1)\n",
    "bias1=weights1+lr*E_h1\n",
    "print('bias1:',bias1)"
   ]
  },
  {
   "cell_type": "code",
   "execution_count": 38,
   "metadata": {},
   "outputs": [
    {
     "name": "stdout",
     "output_type": "stream",
     "text": [
      "[[3]\n",
      " [6]]\n"
     ]
    }
   ],
   "source": []
  },
  {
   "cell_type": "code",
   "execution_count": 22,
   "metadata": {},
   "outputs": [
    {
     "ename": "AssertionError",
     "evalue": "",
     "output_type": "error",
     "traceback": [
      "\u001b[1;31m---------------------------------------------------------------------------\u001b[0m",
      "\u001b[1;31mAssertionError\u001b[0m                            Traceback (most recent call last)",
      "\u001b[1;32m<ipython-input-22-6ccfa53dd7fa>\u001b[0m in \u001b[0;36m<module>\u001b[1;34m()\u001b[0m\n\u001b[0;32m      3\u001b[0m \u001b[1;32mfor\u001b[0m \u001b[0mi\u001b[0m \u001b[1;32min\u001b[0m \u001b[0mrange\u001b[0m\u001b[1;33m(\u001b[0m\u001b[0mepoch_num\u001b[0m\u001b[1;33m)\u001b[0m\u001b[1;33m:\u001b[0m\u001b[1;33m\u001b[0m\u001b[0m\n\u001b[0;32m      4\u001b[0m  \u001b[0msample\u001b[0m\u001b[1;33m=\u001b[0m\u001b[0msample\u001b[0m\u001b[1;33m+\u001b[0m\u001b[1;36m1\u001b[0m\u001b[1;33m\u001b[0m\u001b[0m\n\u001b[1;32m----> 5\u001b[1;33m  \u001b[0mh1\u001b[0m\u001b[1;33m,\u001b[0m\u001b[0mweights1\u001b[0m\u001b[1;33m,\u001b[0m\u001b[0mbias1\u001b[0m\u001b[1;33m=\u001b[0m\u001b[0mhidden_layer\u001b[0m\u001b[1;33m(\u001b[0m\u001b[0minputs\u001b[0m\u001b[1;33m[\u001b[0m\u001b[0msample\u001b[0m\u001b[1;33m%\u001b[0m\u001b[1;36m4\u001b[0m\u001b[1;33m]\u001b[0m\u001b[1;33m,\u001b[0m\u001b[1;36m2\u001b[0m\u001b[1;33m,\u001b[0m\u001b[0mlogist\u001b[0m\u001b[1;33m)\u001b[0m\u001b[1;33m\u001b[0m\u001b[0m\n\u001b[0m\u001b[0;32m      6\u001b[0m  \u001b[0moutput\u001b[0m\u001b[1;33m,\u001b[0m\u001b[0mweights_out\u001b[0m\u001b[1;33m,\u001b[0m\u001b[0mbias_out\u001b[0m\u001b[1;33m=\u001b[0m\u001b[0mhidden_layer\u001b[0m\u001b[1;33m(\u001b[0m\u001b[0mh1\u001b[0m\u001b[1;33m,\u001b[0m\u001b[1;36m1\u001b[0m\u001b[1;33m,\u001b[0m\u001b[0mlogist\u001b[0m\u001b[1;33m)\u001b[0m\u001b[1;33m\u001b[0m\u001b[0m\n\u001b[0;32m      7\u001b[0m  \u001b[0mprint\u001b[0m\u001b[1;33m(\u001b[0m\u001b[1;34m'%d ouput:'\u001b[0m\u001b[1;33m%\u001b[0m\u001b[1;33m(\u001b[0m\u001b[0msample\u001b[0m\u001b[1;33m)\u001b[0m\u001b[1;33m,\u001b[0m\u001b[0moutput\u001b[0m\u001b[1;33m)\u001b[0m\u001b[1;33m\u001b[0m\u001b[0m\n",
      "\u001b[1;32m<ipython-input-21-f34d10fd99ed>\u001b[0m in \u001b[0;36mhidden_layer\u001b[1;34m(inputs, units, activ, train, wg, layer_order)\u001b[0m\n\u001b[0;32m     21\u001b[0m     \u001b[1;31m#判断输入是否为二维数组\u001b[0m\u001b[1;33m\u001b[0m\u001b[1;33m\u001b[0m\u001b[0m\n\u001b[0;32m     22\u001b[0m     \u001b[1;31m#print(inputs.shape)\u001b[0m\u001b[1;33m\u001b[0m\u001b[1;33m\u001b[0m\u001b[0m\n\u001b[1;32m---> 23\u001b[1;33m     \u001b[1;32massert\u001b[0m \u001b[0mlen\u001b[0m\u001b[1;33m(\u001b[0m\u001b[0minputs\u001b[0m\u001b[1;33m.\u001b[0m\u001b[0mshape\u001b[0m\u001b[1;33m)\u001b[0m\u001b[1;33m==\u001b[0m\u001b[1;36m2\u001b[0m\u001b[1;33m\u001b[0m\u001b[0m\n\u001b[0m\u001b[0;32m     24\u001b[0m \u001b[1;33m\u001b[0m\u001b[0m\n\u001b[0;32m     25\u001b[0m     \u001b[1;31m#初始或赋值权重矩阵\u001b[0m\u001b[1;33m\u001b[0m\u001b[1;33m\u001b[0m\u001b[0m\n",
      "\u001b[1;31mAssertionError\u001b[0m: "
     ]
    }
   ],
   "source": [
    "   sample=0\n",
    "\n",
    "for i in range(epoch_num):\n",
    "    sample=sample+1\n",
    "    h1,weights1,bias1=hidden_layer(inputs[sample%4],2,logist)\n",
    "    output,weights_out,bias_out=hidden_layer(h1,1,logist)\n",
    "    print('%d ouput:'%(sample),output)\n",
    "  \n",
    "    E_out=np.array(output)*np.array((1-output))*np.array((true_out[0]-output))\n",
    "  "
   ]
  },
  {
   "cell_type": "code",
   "execution_count": null,
   "metadata": {},
   "outputs": [],
   "source": []
  },
  {
   "cell_type": "code",
   "execution_count": 3,
   "metadata": {},
   "outputs": [],
   "source": [
    "\n",
    "    output_T=output.T\n",
    "\n",
    "    h1_entroy=np.array(h1)*np.array(1-h1)\n",
    "    E_h1=np.array(h1_entroy)*np.array(((weights_out*output_T).T))\n"
   ]
  },
  {
   "cell_type": "code",
   "execution_count": 4,
   "metadata": {},
   "outputs": [],
   "source": [
    "    weights_out=weights_out+lr*np.multiply(output,E_out)\n"
   ]
  },
  {
   "cell_type": "markdown",
   "metadata": {},
   "source": [
    "print(weights1)\n",
    "print(lr*np.multiply(h1,E_h1))"
   ]
  },
  {
   "cell_type": "code",
   "execution_count": 5,
   "metadata": {},
   "outputs": [],
   "source": [
    "    bias_out=weights_out+lr*E_out"
   ]
  },
  {
   "cell_type": "code",
   "execution_count": 6,
   "metadata": {},
   "outputs": [],
   "source": []
  },
  {
   "cell_type": "code",
   "execution_count": 7,
   "metadata": {},
   "outputs": [],
   "source": [
    "    weights1=weights1+lr*np.multiply(h1,E_h1)\n",
    "\n",
    "\n",
    "    bias1=weights1+lr*E_h1"
   ]
  },
  {
   "cell_type": "code",
   "execution_count": 8,
   "metadata": {},
   "outputs": [
    {
     "name": "stdout",
     "output_type": "stream",
     "text": [
      "[[-0.63787777  2.21343874]\n",
      " [-1.01450686  0.02702794]]\n",
      "[[-1.01450686  0.02702794]]\n",
      "[[0.26609878 0.50675657]]\n",
      "[[-1.42749672]\n",
      " [-0.28732851]]\n",
      "[[-0.52546075]]\n",
      "[[0.37157622]]\n",
      "101 output: [[0.37157622]]\n"
     ]
    }
   ],
   "source": [
    "    sample=sample+1\n",
    "    h1,weights1,bias1=hidden_layer(inputs[sample%4],2,logist,train=1,wg=weights1)\n",
    "    output,weights_out,bias_out=hidden_layer(h1,1,logist,train=1,wg=weights_out)\n",
    "    print('%d output:'%(sample),output)"
   ]
  },
  {
   "cell_type": "code",
   "execution_count": null,
   "metadata": {},
   "outputs": [],
   "source": []
  }
 ],
 "metadata": {
  "kernelspec": {
   "display_name": "Python 3",
   "language": "python",
   "name": "python3"
  },
  "language_info": {
   "codemirror_mode": {
    "name": "ipython",
    "version": 3
   },
   "file_extension": ".py",
   "mimetype": "text/x-python",
   "name": "python",
   "nbconvert_exporter": "python",
   "pygments_lexer": "ipython3",
   "version": "3.5.4"
  }
 },
 "nbformat": 4,
 "nbformat_minor": 2
}
